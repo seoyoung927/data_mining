{
 "cells": [
  {
   "cell_type": "code",
   "execution_count": 1,
   "id": "a19c1d73",
   "metadata": {},
   "outputs": [],
   "source": [
    "import pandas as pd\n",
    "import numpy as np"
   ]
  },
  {
   "cell_type": "markdown",
   "id": "e373595d",
   "metadata": {},
   "source": [
    "# Get Data"
   ]
  },
  {
   "cell_type": "code",
   "execution_count": 2,
   "id": "a689f742",
   "metadata": {},
   "outputs": [],
   "source": [
    "cars_data = {'origin': ['Japan', 'Japan', 'Japan', 'USA', 'Japan'], \n",
    "        'manufacturer': ['Honda', 'Toyota', 'Toyota', 'Chrysler', 'Honda'], \n",
    "        'color': ['blue', 'green', 'blue', 'red', 'white'], \n",
    "        'year': [1980, 1970, 1990, 1980, 1980],\n",
    "        'Type': ['economy', 'sports', 'economy', 'economy', 'economy'],\n",
    "        'result': ['positive', 'negative','positive','negative','positive']}\n",
    "df = pd.DataFrame(cars_data, columns = ['origin', 'manufacturer', 'color', 'year', 'Type', 'result'])\n",
    "#df.to_csv(\"./cars.csv\", index=False, encoding='utf8')"
   ]
  },
  {
   "cell_type": "code",
   "execution_count": 3,
   "id": "f95335c3",
   "metadata": {},
   "outputs": [
    {
     "data": {
      "text/html": [
       "<div>\n",
       "<style scoped>\n",
       "    .dataframe tbody tr th:only-of-type {\n",
       "        vertical-align: middle;\n",
       "    }\n",
       "\n",
       "    .dataframe tbody tr th {\n",
       "        vertical-align: top;\n",
       "    }\n",
       "\n",
       "    .dataframe thead th {\n",
       "        text-align: right;\n",
       "    }\n",
       "</style>\n",
       "<table border=\"1\" class=\"dataframe\">\n",
       "  <thead>\n",
       "    <tr style=\"text-align: right;\">\n",
       "      <th></th>\n",
       "      <th>origin</th>\n",
       "      <th>manufacturer</th>\n",
       "      <th>color</th>\n",
       "      <th>year</th>\n",
       "      <th>Type</th>\n",
       "      <th>result</th>\n",
       "    </tr>\n",
       "  </thead>\n",
       "  <tbody>\n",
       "    <tr>\n",
       "      <th>0</th>\n",
       "      <td>Japan</td>\n",
       "      <td>Honda</td>\n",
       "      <td>blue</td>\n",
       "      <td>1980</td>\n",
       "      <td>economy</td>\n",
       "      <td>positive</td>\n",
       "    </tr>\n",
       "    <tr>\n",
       "      <th>1</th>\n",
       "      <td>Japan</td>\n",
       "      <td>Toyota</td>\n",
       "      <td>green</td>\n",
       "      <td>1970</td>\n",
       "      <td>sports</td>\n",
       "      <td>negative</td>\n",
       "    </tr>\n",
       "    <tr>\n",
       "      <th>2</th>\n",
       "      <td>Japan</td>\n",
       "      <td>Toyota</td>\n",
       "      <td>blue</td>\n",
       "      <td>1990</td>\n",
       "      <td>economy</td>\n",
       "      <td>positive</td>\n",
       "    </tr>\n",
       "    <tr>\n",
       "      <th>3</th>\n",
       "      <td>USA</td>\n",
       "      <td>Chrysler</td>\n",
       "      <td>red</td>\n",
       "      <td>1980</td>\n",
       "      <td>economy</td>\n",
       "      <td>negative</td>\n",
       "    </tr>\n",
       "    <tr>\n",
       "      <th>4</th>\n",
       "      <td>Japan</td>\n",
       "      <td>Honda</td>\n",
       "      <td>white</td>\n",
       "      <td>1980</td>\n",
       "      <td>economy</td>\n",
       "      <td>positive</td>\n",
       "    </tr>\n",
       "  </tbody>\n",
       "</table>\n",
       "</div>"
      ],
      "text/plain": [
       "  origin manufacturer  color  year     Type    result\n",
       "0  Japan        Honda   blue  1980  economy  positive\n",
       "1  Japan       Toyota  green  1970   sports  negative\n",
       "2  Japan       Toyota   blue  1990  economy  positive\n",
       "3    USA     Chrysler    red  1980  economy  negative\n",
       "4  Japan        Honda  white  1980  economy  positive"
      ]
     },
     "execution_count": 3,
     "metadata": {},
     "output_type": "execute_result"
    }
   ],
   "source": [
    "df"
   ]
  },
  {
   "cell_type": "markdown",
   "id": "14688c20",
   "metadata": {},
   "source": [
    "# Clean, Prepare & Manipulate Data"
   ]
  },
  {
   "cell_type": "code",
   "execution_count": 4,
   "id": "321faea9",
   "metadata": {},
   "outputs": [
    {
     "data": {
      "text/html": [
       "<div>\n",
       "<style scoped>\n",
       "    .dataframe tbody tr th:only-of-type {\n",
       "        vertical-align: middle;\n",
       "    }\n",
       "\n",
       "    .dataframe tbody tr th {\n",
       "        vertical-align: top;\n",
       "    }\n",
       "\n",
       "    .dataframe thead th {\n",
       "        text-align: right;\n",
       "    }\n",
       "</style>\n",
       "<table border=\"1\" class=\"dataframe\">\n",
       "  <thead>\n",
       "    <tr style=\"text-align: right;\">\n",
       "      <th></th>\n",
       "      <th>origin</th>\n",
       "      <th>manufacturer</th>\n",
       "      <th>color</th>\n",
       "      <th>year</th>\n",
       "      <th>Type</th>\n",
       "      <th>result</th>\n",
       "    </tr>\n",
       "  </thead>\n",
       "  <tbody>\n",
       "    <tr>\n",
       "      <th>0</th>\n",
       "      <td>Japan</td>\n",
       "      <td>Honda</td>\n",
       "      <td>blue</td>\n",
       "      <td>1980</td>\n",
       "      <td>economy</td>\n",
       "      <td>1</td>\n",
       "    </tr>\n",
       "    <tr>\n",
       "      <th>1</th>\n",
       "      <td>Japan</td>\n",
       "      <td>Toyota</td>\n",
       "      <td>green</td>\n",
       "      <td>1970</td>\n",
       "      <td>sports</td>\n",
       "      <td>0</td>\n",
       "    </tr>\n",
       "    <tr>\n",
       "      <th>2</th>\n",
       "      <td>Japan</td>\n",
       "      <td>Toyota</td>\n",
       "      <td>blue</td>\n",
       "      <td>1990</td>\n",
       "      <td>economy</td>\n",
       "      <td>1</td>\n",
       "    </tr>\n",
       "    <tr>\n",
       "      <th>3</th>\n",
       "      <td>USA</td>\n",
       "      <td>Chrysler</td>\n",
       "      <td>red</td>\n",
       "      <td>1980</td>\n",
       "      <td>economy</td>\n",
       "      <td>0</td>\n",
       "    </tr>\n",
       "    <tr>\n",
       "      <th>4</th>\n",
       "      <td>Japan</td>\n",
       "      <td>Honda</td>\n",
       "      <td>white</td>\n",
       "      <td>1980</td>\n",
       "      <td>economy</td>\n",
       "      <td>1</td>\n",
       "    </tr>\n",
       "  </tbody>\n",
       "</table>\n",
       "</div>"
      ],
      "text/plain": [
       "  origin manufacturer  color  year     Type result\n",
       "0  Japan        Honda   blue  1980  economy      1\n",
       "1  Japan       Toyota  green  1970   sports      0\n",
       "2  Japan       Toyota   blue  1990  economy      1\n",
       "3    USA     Chrysler    red  1980  economy      0\n",
       "4  Japan        Honda  white  1980  economy      1"
      ]
     },
     "execution_count": 4,
     "metadata": {},
     "output_type": "execute_result"
    }
   ],
   "source": [
    "df.loc[df['result'] == 'positive', 'result'] = '1'\n",
    "df.loc[df['result'] == 'negative', 'result'] = '0'\n",
    "df"
   ]
  },
  {
   "cell_type": "code",
   "execution_count": 5,
   "id": "f5de9693",
   "metadata": {},
   "outputs": [
    {
     "name": "stdout",
     "output_type": "stream",
     "text": [
      "n The attributes are:  [['Japan' 'Honda' 'blue' 1980 'economy']\n",
      " ['Japan' 'Toyota' 'green' 1970 'sports']\n",
      " ['Japan' 'Toyota' 'blue' 1990 'economy']\n",
      " ['USA' 'Chrysler' 'red' 1980 'economy']\n",
      " ['Japan' 'Honda' 'white' 1980 'economy']]\n",
      "n The target is:  ['1' '0' '1' '0' '1']\n"
     ]
    }
   ],
   "source": [
    "data = df\n",
    "\n",
    "#making an array of all the attributes\n",
    "d = np.array(data)[:,:-1]\n",
    "print(\"n The attributes are: \",d)\n",
    " \n",
    "#segragating the target that has positive and negative examples\n",
    "target = np.array(data)[:,-1]\n",
    "print(\"n The target is: \",target)"
   ]
  },
  {
   "cell_type": "markdown",
   "id": "c15d2a43",
   "metadata": {},
   "source": [
    "# Train Model"
   ]
  },
  {
   "cell_type": "markdown",
   "id": "3c9e79c5",
   "metadata": {},
   "source": [
    "## Find-S algorithm"
   ]
  },
  {
   "cell_type": "code",
   "execution_count": 6,
   "id": "5a0ae86a",
   "metadata": {},
   "outputs": [],
   "source": [
    "def train(c,t):\n",
    "    specific_hypothesis = []\n",
    "    for i, val in enumerate(t):\n",
    "        if val == '1':\n",
    "            specific_hypothesis = c[i].copy()\n",
    "            break\n",
    "    print(\"1: \", specific_hypothesis)\n",
    "    n=2\n",
    "    for i, val in enumerate(c):\n",
    "        if t[i] == '1':\n",
    "            for x in range(len(specific_hypothesis)):\n",
    "                if val[x] != specific_hypothesis[x]:\n",
    "                    specific_hypothesis[x] = '?'\n",
    "                else:\n",
    "                    pass\n",
    "        print(n,\": \", specific_hypothesis) \n",
    "        n+=1\n",
    "                 \n",
    "    return specific_hypothesis"
   ]
  },
  {
   "cell_type": "code",
   "execution_count": 7,
   "id": "42150c60",
   "metadata": {},
   "outputs": [
    {
     "name": "stdout",
     "output_type": "stream",
     "text": [
      "1:  ['Japan' 'Honda' 'blue' 1980 'economy']\n",
      "2 :  ['Japan' 'Honda' 'blue' 1980 'economy']\n",
      "3 :  ['Japan' 'Honda' 'blue' 1980 'economy']\n",
      "4 :  ['Japan' '?' 'blue' '?' 'economy']\n",
      "5 :  ['Japan' '?' 'blue' '?' 'economy']\n",
      "6 :  ['Japan' '?' '?' '?' 'economy']\n",
      "n The final hypothesis is: ['Japan' '?' '?' '?' 'economy']\n"
     ]
    }
   ],
   "source": [
    "#obtaining the final hypothesis\n",
    "print(\"n The final hypothesis is:\",train(d,target))"
   ]
  },
  {
   "cell_type": "markdown",
   "id": "292f53ff",
   "metadata": {},
   "source": [
    "## Candidate Elimination algorithm"
   ]
  },
  {
   "cell_type": "code",
   "execution_count": 8,
   "id": "0d301a1e",
   "metadata": {},
   "outputs": [],
   "source": [
    "def train_ce(concepts, target): \n",
    "    specific_h = concepts[0].copy()\n",
    "    print(\"\\nInitialization of specific_h and genearal_h\")\n",
    "    print(\"\\nSpecific Boundary: \", specific_h)\n",
    "    general_h = [[\"?\" for i in range(len(specific_h))] for i in range(len(specific_h))]\n",
    "    print(\"\\nGeneric Boundary: \",general_h)  \n",
    "\n",
    "    for i, h in enumerate(concepts):\n",
    "        print(\"\\nInstance\", i+1 , \"is \", h)\n",
    "        if target[i] == 1:\n",
    "            print(\"Instance is Positive \")\n",
    "            for x in range(len(specific_h)): \n",
    "                if h[x]!= specific_h[x]:                    \n",
    "                    specific_h[x] ='?'                     \n",
    "                    general_h[x][x] ='?'\n",
    "                   \n",
    "        if target[i] == 0:            \n",
    "            print(\"Instance is Negative \")\n",
    "            for x in range(len(specific_h)): \n",
    "                if h[x]!= specific_h[x]:                    \n",
    "                    general_h[x][x] = specific_h[x]                \n",
    "                else:                    \n",
    "                    general_h[x][x] = '?'        \n",
    "        \n",
    "        print(\"Specific Bundary after \", i+1, \"Instance is \", specific_h)         \n",
    "        print(\"Generic Boundary after \", i+1, \"Instance is \", general_h)\n",
    "        print(\"\\n\")\n",
    "\n",
    "    indices = [i for i, val in enumerate(general_h) if val == ['?', '?', '?', '?', '?', '?']]    \n",
    "    for i in indices:   \n",
    "        general_h.remove(['?', '?', '?', '?', '?', '?']) \n",
    "    return specific_h, general_h "
   ]
  },
  {
   "cell_type": "code",
   "execution_count": 9,
   "id": "e74d2213",
   "metadata": {},
   "outputs": [
    {
     "name": "stdout",
     "output_type": "stream",
     "text": [
      "\n",
      "Initialization of specific_h and genearal_h\n",
      "\n",
      "Specific Boundary:  ['Japan' 'Honda' 'blue' 1980 'economy']\n",
      "\n",
      "Generic Boundary:  [['?', '?', '?', '?', '?'], ['?', '?', '?', '?', '?'], ['?', '?', '?', '?', '?'], ['?', '?', '?', '?', '?'], ['?', '?', '?', '?', '?']]\n",
      "\n",
      "Instance 1 is  ['Japan' 'Honda' 'blue' 1980 'economy']\n",
      "Specific Bundary after  1 Instance is  ['Japan' 'Honda' 'blue' 1980 'economy']\n",
      "Generic Boundary after  1 Instance is  [['?', '?', '?', '?', '?'], ['?', '?', '?', '?', '?'], ['?', '?', '?', '?', '?'], ['?', '?', '?', '?', '?'], ['?', '?', '?', '?', '?']]\n",
      "\n",
      "\n",
      "\n",
      "Instance 2 is  ['Japan' 'Toyota' 'green' 1970 'sports']\n",
      "Specific Bundary after  2 Instance is  ['Japan' 'Honda' 'blue' 1980 'economy']\n",
      "Generic Boundary after  2 Instance is  [['?', '?', '?', '?', '?'], ['?', '?', '?', '?', '?'], ['?', '?', '?', '?', '?'], ['?', '?', '?', '?', '?'], ['?', '?', '?', '?', '?']]\n",
      "\n",
      "\n",
      "\n",
      "Instance 3 is  ['Japan' 'Toyota' 'blue' 1990 'economy']\n",
      "Specific Bundary after  3 Instance is  ['Japan' 'Honda' 'blue' 1980 'economy']\n",
      "Generic Boundary after  3 Instance is  [['?', '?', '?', '?', '?'], ['?', '?', '?', '?', '?'], ['?', '?', '?', '?', '?'], ['?', '?', '?', '?', '?'], ['?', '?', '?', '?', '?']]\n",
      "\n",
      "\n",
      "\n",
      "Instance 4 is  ['USA' 'Chrysler' 'red' 1980 'economy']\n",
      "Specific Bundary after  4 Instance is  ['Japan' 'Honda' 'blue' 1980 'economy']\n",
      "Generic Boundary after  4 Instance is  [['?', '?', '?', '?', '?'], ['?', '?', '?', '?', '?'], ['?', '?', '?', '?', '?'], ['?', '?', '?', '?', '?'], ['?', '?', '?', '?', '?']]\n",
      "\n",
      "\n",
      "\n",
      "Instance 5 is  ['Japan' 'Honda' 'white' 1980 'economy']\n",
      "Specific Bundary after  5 Instance is  ['Japan' 'Honda' 'blue' 1980 'economy']\n",
      "Generic Boundary after  5 Instance is  [['?', '?', '?', '?', '?'], ['?', '?', '?', '?', '?'], ['?', '?', '?', '?', '?'], ['?', '?', '?', '?', '?'], ['?', '?', '?', '?', '?']]\n",
      "\n",
      "\n",
      "n The final hypothesis is: (array(['Japan', 'Honda', 'blue', 1980, 'economy'], dtype=object), [['?', '?', '?', '?', '?'], ['?', '?', '?', '?', '?'], ['?', '?', '?', '?', '?'], ['?', '?', '?', '?', '?'], ['?', '?', '?', '?', '?']])\n"
     ]
    }
   ],
   "source": [
    "#obtaining the final hypothesis\n",
    "print(\"n The final hypothesis is:\",train_ce(d,target))"
   ]
  },
  {
   "cell_type": "code",
   "execution_count": null,
   "id": "6006936c",
   "metadata": {},
   "outputs": [],
   "source": []
  }
 ],
 "metadata": {
  "kernelspec": {
   "display_name": "Python 3 (ipykernel)",
   "language": "python",
   "name": "python3"
  },
  "language_info": {
   "codemirror_mode": {
    "name": "ipython",
    "version": 3
   },
   "file_extension": ".py",
   "mimetype": "text/x-python",
   "name": "python",
   "nbconvert_exporter": "python",
   "pygments_lexer": "ipython3",
   "version": "3.10.9"
  },
  "toc": {
   "base_numbering": 1,
   "nav_menu": {},
   "number_sections": true,
   "sideBar": true,
   "skip_h1_title": false,
   "title_cell": "Table of Contents",
   "title_sidebar": "Contents",
   "toc_cell": false,
   "toc_position": {},
   "toc_section_display": true,
   "toc_window_display": false
  }
 },
 "nbformat": 4,
 "nbformat_minor": 5
}
